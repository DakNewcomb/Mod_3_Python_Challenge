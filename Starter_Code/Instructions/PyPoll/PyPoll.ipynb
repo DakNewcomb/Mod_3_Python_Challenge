{
 "cells": [
  {
   "cell_type": "markdown",
   "id": "113993f9",
   "metadata": {},
   "source": [
    "# PyPoll READ.Me\n",
    "\n",
    "PyPoll Instructions\n",
    "In this challenge, you are tasked with helping a small, rural town modernize its vote counting process.\n",
    "\n",
    "You will be given a set of poll data called election_data.csv. The dataset is composed of three columns: \"Voter ID\", \"County\", and \"Candidate\". Your task is to create a Python script that analyzes the votes and calculates each of the following:\n",
    "\n",
    "--The total number of votes cast\n",
    "\n",
    "--A complete list of candidates who received votes\n",
    "\n",
    "The percentage of votes each candidate won\n",
    "\n",
    "--The total number of votes each candidate won\n",
    "\n",
    "The winner of the election based on popular vote.\n",
    "\n",
    "Your analysis should look similar to the following:\n",
    "\n",
    "Election Results\n",
    "-------------------------\n",
    "Total Votes: 369711\n",
    "-------------------------\n",
    "Charles Casper Stockham: 23.049% (85213)\n",
    "Diana DeGette: 73.812% (272892)\n",
    "Raymon Anthony Doane: 3.139% (11606)\n",
    "-------------------------\n",
    "Winner: Diana DeGette\n",
    "-------------------------\n",
    "In addition, your final script should both print the analysis to the terminal and export a text file with the results."
   ]
  },
  {
   "cell_type": "code",
   "execution_count": 6,
   "id": "56510a60",
   "metadata": {},
   "outputs": [],
   "source": [
    "import os\n",
    "import csv"
   ]
  },
  {
   "cell_type": "code",
   "execution_count": 7,
   "id": "4cf2b429",
   "metadata": {
    "scrolled": true
   },
   "outputs": [
    {
     "name": "stdout",
     "output_type": "stream",
     "text": [
      "..\\PyPoll\\Resources\\election_data.csv\n"
     ]
    }
   ],
   "source": [
    "poll_path = os.path.join('..','PyPoll','Resources','election_data.csv')\n",
    "print(poll_path)"
   ]
  },
  {
   "cell_type": "code",
   "execution_count": 18,
   "id": "e2be7ce7",
   "metadata": {},
   "outputs": [
    {
     "name": "stdout",
     "output_type": "stream",
     "text": [
      "<_csv.reader object at 0x00000205510ABF40>\n",
      "Election Header: ['Ballot ID', 'County', 'Candidate']\n"
     ]
    },
    {
     "ename": "TypeError",
     "evalue": "'int' object is not subscriptable",
     "output_type": "error",
     "traceback": [
      "\u001b[1;31m---------------------------------------------------------------------------\u001b[0m",
      "\u001b[1;31mTypeError\u001b[0m                                 Traceback (most recent call last)",
      "\u001b[1;32m~\\AppData\\Local\\Temp\\ipykernel_12184\\4209226756.py\u001b[0m in \u001b[0;36m<module>\u001b[1;34m\u001b[0m\n\u001b[0;32m     31\u001b[0m     \u001b[1;32mfor\u001b[0m \u001b[0mnumbers\u001b[0m \u001b[1;32min\u001b[0m \u001b[0mvotes\u001b[0m\u001b[1;33m:\u001b[0m\u001b[1;33m\u001b[0m\u001b[1;33m\u001b[0m\u001b[0m\n\u001b[0;32m     32\u001b[0m         \u001b[0mvote_count\u001b[0m \u001b[1;33m=\u001b[0m \u001b[1;33m[\u001b[0m\u001b[1;33m]\u001b[0m\u001b[1;33m\u001b[0m\u001b[1;33m\u001b[0m\u001b[0m\n\u001b[1;32m---> 33\u001b[1;33m         \u001b[0mvote_count\u001b[0m\u001b[1;33m.\u001b[0m\u001b[0mappend\u001b[0m\u001b[1;33m(\u001b[0m\u001b[0mint\u001b[0m\u001b[1;33m(\u001b[0m\u001b[0mvotes\u001b[0m\u001b[1;33m[\u001b[0m\u001b[1;34m\"Charles Casper Stockham\"\u001b[0m\u001b[1;33m]\u001b[0m\u001b[1;33m)\u001b[0m\u001b[1;33m)\u001b[0m\u001b[1;33m\u001b[0m\u001b[1;33m\u001b[0m\u001b[0m\n\u001b[0m\u001b[0;32m     34\u001b[0m         \u001b[0mvote_count\u001b[0m\u001b[1;33m.\u001b[0m\u001b[0mappend\u001b[0m\u001b[1;33m(\u001b[0m\u001b[0mint\u001b[0m\u001b[1;33m(\u001b[0m\u001b[0mvotes\u001b[0m\u001b[1;33m[\u001b[0m\u001b[1;34m'Diana DeGette'\u001b[0m\u001b[1;33m]\u001b[0m\u001b[1;33m)\u001b[0m\u001b[1;33m)\u001b[0m\u001b[1;33m\u001b[0m\u001b[1;33m\u001b[0m\u001b[0m\n\u001b[0;32m     35\u001b[0m         \u001b[0mvote_count\u001b[0m\u001b[1;33m.\u001b[0m\u001b[0mappend\u001b[0m\u001b[1;33m(\u001b[0m\u001b[0mint\u001b[0m\u001b[1;33m(\u001b[0m\u001b[0mvotes\u001b[0m\u001b[1;33m[\u001b[0m\u001b[1;34m'Raymon Anthony Doane'\u001b[0m\u001b[1;33m]\u001b[0m\u001b[1;33m)\u001b[0m\u001b[1;33m)\u001b[0m\u001b[1;33m\u001b[0m\u001b[1;33m\u001b[0m\u001b[0m\n",
      "\u001b[1;31mTypeError\u001b[0m: 'int' object is not subscriptable"
     ]
    }
   ],
   "source": [
    "#list, counters, and dictionaries\n",
    "candidate_list = []\n",
    "t_votes = 0\n",
    "votes = {}\n",
    "stats = {}\n",
    "\n",
    "with open(poll_path) as poll_file:\n",
    "    poll_reader = csv.reader(poll_file, delimiter =',')\n",
    "    print(poll_reader)\n",
    "    header = next(poll_reader)\n",
    "    print(f'Election Header: {header}')\n",
    "      \n",
    "    for rows in poll_reader:\n",
    "        #name rows\n",
    "        ballot = rows[0]\n",
    "        county = rows[1]\n",
    "        candidate = [rows[2]]\n",
    "        \n",
    "        #count total votes\n",
    "        t_votes = t_votes +1\n",
    "        \n",
    "        #create list with the individual candidates\n",
    "        if candidate not in candidate_list:\n",
    "            candidate_list.append(candidate)\n",
    "        \n",
    "        #count votes for each candidate\n",
    "        for names in candidate:\n",
    "            votes[names] = votes.get(names, 0) + 1\n",
    "            \n",
    "    #calculate percentage of votes for each candidate\n",
    "    for numbers in votes:\n",
    "        vote_count = []\n",
    "        vote_count.append(int(votes[\"Charles Casper Stockham\"]))\n",
    "        vote_count.append(int(votes['Diana DeGette']))\n",
    "        vote_count.append(int(votes['Raymon Anthony Doane']))\n",
    "        vote_percentages = []\n",
    "        vote_percentages.append(round(((vote_count[0]/t_votes)*100),3))\n",
    "        vote_percentages.append(round(((vote_count[1]/t_votes)*100),3))\n",
    "        vote_percentages.append(round(((vote_count[2]/t_votes)*100),3))\n",
    "        \n",
    "        #find winner\n",
    "        max_vote = max(vote_count)\n",
    "    #create dictionary with candidates and their statistics\n",
    "        stats={\n",
    "            \"1\": f'{candidate_list[0]}, {vote_percentages[0]}% ({vote_count[0]})',\n",
    "            \"2\": f'{candidate_list[1]}, {vote_percentages[1]}% ({vote_count[1]})',\n",
    "            \"3\": f'{candidate_list[2]}, {vote_percentages[2]}% ({vote_count[2]})'\n",
    "        }\n",
    "        \n",
    "        for candidate, votes in votes.items(): #idea from https://stackoverflow.com/questions/8023306/get-key-by-value-in-dictionary\n",
    "            if votes == max_vote:\n",
    "                winner= candidate\n",
    "                \n"
   ]
  },
  {
   "cell_type": "code",
   "execution_count": 19,
   "id": "3bfe732c",
   "metadata": {},
   "outputs": [],
   "source": [
    "output_poll = os.path.join(\"..\",\"Analysis\",\"Election_Analysis\")"
   ]
  },
  {
   "cell_type": "code",
   "execution_count": 20,
   "id": "8926628a",
   "metadata": {},
   "outputs": [
    {
     "name": "stdout",
     "output_type": "stream",
     "text": [
      "Election Results\n",
      "--------------------------------------------------------------\n",
      "Total votes: 369711\n",
      "--------------------------------------------------------------\n",
      "['Charles Casper Stockham'], 23.049% (85213)\n",
      "['Diana DeGette'], 73.812% (272892)\n",
      "['Raymon Anthony Doane'], 3.139% (11606)\n",
      "--------------------------------------------------------------\n",
      "Winner: Diana DeGette\n"
     ]
    }
   ],
   "source": [
    "with open(output_poll, 'w') as txt_file:\n",
    "\n",
    "    # write text file\n",
    "    Election_Analysis=(\n",
    "        f'Election Results\\n'\n",
    "        f\"--------------------------------------------------------------\\n\"\n",
    "        f'Total votes: {t_votes}\\n'\n",
    "        f\"--------------------------------------------------------------\\n\"\n",
    "        f'{stats[\"1\"]}\\n'\n",
    "        f'{stats[\"2\"]}\\n'\n",
    "        f'{stats[\"3\"]}\\n'\n",
    "        f\"--------------------------------------------------------------\\n\"\n",
    "        f'Winner: {winner}\\n'\n",
    "    )\n",
    "    print(Election_Analysis, end=\"\")\n",
    "    \n",
    "    txt_file.write(Election_Analysis)"
   ]
  },
  {
   "cell_type": "code",
   "execution_count": null,
   "id": "87d9a046",
   "metadata": {},
   "outputs": [],
   "source": []
  }
 ],
 "metadata": {
  "kernelspec": {
   "display_name": "Python 3 (ipykernel)",
   "language": "python",
   "name": "python3"
  },
  "language_info": {
   "codemirror_mode": {
    "name": "ipython",
    "version": 3
   },
   "file_extension": ".py",
   "mimetype": "text/x-python",
   "name": "python",
   "nbconvert_exporter": "python",
   "pygments_lexer": "ipython3",
   "version": "3.9.13"
  }
 },
 "nbformat": 4,
 "nbformat_minor": 5
}
