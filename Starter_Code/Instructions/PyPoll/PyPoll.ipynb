{
 "cells": [
  {
   "cell_type": "markdown",
   "id": "113993f9",
   "metadata": {},
   "source": [
    "# PyPoll READ.Me\n",
    "\n",
    "PyPoll Instructions\n",
    "In this challenge, you are tasked with helping a small, rural town modernize its vote counting process.\n",
    "\n",
    "You will be given a set of poll data called election_data.csv. The dataset is composed of three columns: \"Voter ID\", \"County\", and \"Candidate\". Your task is to create a Python script that analyzes the votes and calculates each of the following:\n",
    "\n",
    "--The total number of votes cast\n",
    "\n",
    "--A complete list of candidates who received votes\n",
    "\n",
    "The percentage of votes each candidate won\n",
    "\n",
    "--The total number of votes each candidate won\n",
    "\n",
    "The winner of the election based on popular vote.\n",
    "\n",
    "Your analysis should look similar to the following:\n",
    "\n",
    "Election Results\n",
    "-------------------------\n",
    "Total Votes: 369711\n",
    "-------------------------\n",
    "Charles Casper Stockham: 23.049% (85213)\n",
    "Diana DeGette: 73.812% (272892)\n",
    "Raymon Anthony Doane: 3.139% (11606)\n",
    "-------------------------\n",
    "Winner: Diana DeGette\n",
    "-------------------------\n",
    "In addition, your final script should both print the analysis to the terminal and export a text file with the results."
   ]
  },
  {
   "cell_type": "code",
   "execution_count": 7,
   "id": "56510a60",
   "metadata": {},
   "outputs": [],
   "source": [
    "import os\n",
    "import csv"
   ]
  },
  {
   "cell_type": "code",
   "execution_count": 8,
   "id": "4cf2b429",
   "metadata": {
    "scrolled": true
   },
   "outputs": [
    {
     "name": "stdout",
     "output_type": "stream",
     "text": [
      "..\\PyPoll\\Resources\\election_data.csv\n"
     ]
    }
   ],
   "source": [
    "poll_path = os.path.join('..','PyPoll','Resources','election_data.csv')\n",
    "print(poll_path)"
   ]
  },
  {
   "cell_type": "code",
   "execution_count": 44,
   "id": "e2be7ce7",
   "metadata": {},
   "outputs": [
    {
     "name": "stdout",
     "output_type": "stream",
     "text": [
      "<_csv.reader object at 0x000002510E2F4DC0>\n",
      "Election Header: ['Ballot ID', 'County', 'Candidate']\n",
      "Total Votes: 369711\n",
      "{'Charles Casper Stockham': 85213, 'Diana DeGette': 272892, 'Raymon Anthony Doane': 11606}\n"
     ]
    }
   ],
   "source": [
    "t_votes = 0\n",
    "candidate_list = []\n",
    "candidate_votes = {}\n",
    "stats = {}\n",
    "percent = 0\n",
    "winner = []\n",
    "with open(poll_path) as poll_file:\n",
    "    poll_reader = csv.reader(poll_file, delimiter =',')\n",
    "    print(poll_reader)\n",
    "    header = next(poll_reader)\n",
    "    print(f'Election Header: {header}')\n",
    "      \n",
    "    for rows in poll_reader:\n",
    "        #print(rows[2])\n",
    "        t_votes = t_votes + 1\n",
    "        candid = rows[2]\n",
    "       \n",
    "        if candid not in candidate_list:\n",
    "            candidate_list.append(candid)  \n",
    "            candidate_votes[candid]=0\n",
    "        candidate_votes[candid] +=1\n",
    "        percent = (candidate_votes[candid]/t_votes)\n",
    "        \n",
    "    \n",
    "print(f'Total Votes: {t_votes}')\n",
    "print(candidate_votes)"
   ]
  },
  {
   "cell_type": "code",
   "execution_count": 10,
   "id": "3bfe732c",
   "metadata": {},
   "outputs": [],
   "source": [
    "output_poll = os.path.join(\"..\",\"Outputs\",\"pypoll_output.csv\")"
   ]
  },
  {
   "cell_type": "code",
   "execution_count": 38,
   "id": "8926628a",
   "metadata": {},
   "outputs": [],
   "source": [
    "with open(output_poll, 'w') as poll_file:\n",
    "\n",
    "    # Initialize csv.writer\n",
    "    poll_writer = csv.writer(poll_file)\n",
    "\n",
    "    # Write \n",
    "    poll_writer.writerow(['Election Results: '])\n",
    "    poll_writer.writerow(['------------------------------------'])\n",
    "    poll_writer.writerow([f'Total Votes: {t_votes}'])\n",
    "    poll_writer.writerow(['------------------------------------'])\n",
    "\n",
    "    poll_writer.writerow([candidate_votes])\n",
    "    \n",
    "    poll_writer.writerow([f'-----------------------------------'])\n",
    "    poll_writer.writerow([f'WINNER: '])\n",
    "    poll_writer.writerow([f'-----------------------------------'])"
   ]
  },
  {
   "cell_type": "code",
   "execution_count": null,
   "id": "87d9a046",
   "metadata": {},
   "outputs": [],
   "source": []
  }
 ],
 "metadata": {
  "kernelspec": {
   "display_name": "Python 3 (ipykernel)",
   "language": "python",
   "name": "python3"
  },
  "language_info": {
   "codemirror_mode": {
    "name": "ipython",
    "version": 3
   },
   "file_extension": ".py",
   "mimetype": "text/x-python",
   "name": "python",
   "nbconvert_exporter": "python",
   "pygments_lexer": "ipython3",
   "version": "3.9.13"
  }
 },
 "nbformat": 4,
 "nbformat_minor": 5
}
