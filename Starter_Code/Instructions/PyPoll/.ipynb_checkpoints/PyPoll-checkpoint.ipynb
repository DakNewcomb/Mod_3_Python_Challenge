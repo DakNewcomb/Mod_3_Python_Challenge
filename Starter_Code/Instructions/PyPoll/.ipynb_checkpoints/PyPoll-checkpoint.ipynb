{
 "cells": [
  {
   "cell_type": "markdown",
   "id": "113993f9",
   "metadata": {},
   "source": [
    "# PyPoll READ.Me\n",
    "\n",
    "PyPoll Instructions\n",
    "In this challenge, you are tasked with helping a small, rural town modernize its vote counting process.\n",
    "\n",
    "You will be given a set of poll data called election_data.csv. The dataset is composed of three columns: \"Voter ID\", \"County\", and \"Candidate\". Your task is to create a Python script that analyzes the votes and calculates each of the following:\n",
    "\n",
    "--The total number of votes cast\n",
    "\n",
    "--A complete list of candidates who received votes\n",
    "\n",
    "The percentage of votes each candidate won\n",
    "\n",
    "The total number of votes each candidate won\n",
    "\n",
    "The winner of the election based on popular vote.\n",
    "\n",
    "Your analysis should look similar to the following:\n",
    "\n",
    "Election Results\n",
    "-------------------------\n",
    "Total Votes: 369711\n",
    "-------------------------\n",
    "Charles Casper Stockham: 23.049% (85213)\n",
    "Diana DeGette: 73.812% (272892)\n",
    "Raymon Anthony Doane: 3.139% (11606)\n",
    "-------------------------\n",
    "Winner: Diana DeGette\n",
    "-------------------------\n",
    "In addition, your final script should both print the analysis to the terminal and export a text file with the results."
   ]
  },
  {
   "cell_type": "code",
   "execution_count": 77,
   "id": "56510a60",
   "metadata": {},
   "outputs": [],
   "source": [
    "import os\n",
    "import csv"
   ]
  },
  {
   "cell_type": "code",
   "execution_count": 78,
   "id": "4cf2b429",
   "metadata": {},
   "outputs": [
    {
     "name": "stdout",
     "output_type": "stream",
     "text": [
      "..\\PyPoll\\Resources\\election_data.csv\n"
     ]
    }
   ],
   "source": [
    "poll_path = os.path.join('..','PyPoll','Resources','election_data.csv')\n",
    "print(poll_path)"
   ]
  },
  {
   "cell_type": "code",
   "execution_count": 86,
   "id": "4db573c1",
   "metadata": {},
   "outputs": [
    {
     "name": "stdout",
     "output_type": "stream",
     "text": [
      "<_csv.reader object at 0x000001FD39B6F160>\n",
      "Election Header: ['Ballot ID', 'County', 'Candidate']\n",
      "{'Candidates': ['Charles Casper Stockham', 'Diana DeGette', 'Raymon Anthony Doane']}\n",
      "Total Votes: 369711\n"
     ]
    }
   ],
   "source": [
    "\n",
    "can_count = 0\n",
    "t_votes = 0\n",
    "def candidate(rows):\n",
    "    candidate_list = []\n",
    "stats = {}\n",
    "with open(poll_path) as poll_file:\n",
    "    poll_reader = csv.reader(poll_file, delimiter =',')\n",
    "    print(poll_reader)\n",
    "    header = next(poll_reader)\n",
    "    print(f'Election Header: {header}')\n",
    "    t_votes = t_votes +1\n",
    "    first_c = next(poll_reader)\n",
    "    prev_c = (first_c[1])   \n",
    "    for rows in poll_reader:\n",
    "        #print(rows[2])\n",
    "        t_votes = t_votes + 1\n",
    "        candid= rows[2]\n",
    "        if prev_c == candid:\n",
    "            can_count = can_count +1\n",
    "        \n",
    "        if candid not in candidate_list:\n",
    "            candidate_list.append(candid)  \n",
    "\n",
    "    stats['Candidates']= candidate_list\n",
    "    print(stats)\n",
    "    print(f'Total Votes: {t_votes}')\n",
    "    "
   ]
  },
  {
   "cell_type": "code",
   "execution_count": 87,
   "id": "3bfe732c",
   "metadata": {},
   "outputs": [],
   "source": [
    "output_poll = os.path.join(\"..\",\"Outputs\",\"pypoll_output.csv\")"
   ]
  },
  {
   "cell_type": "code",
   "execution_count": 88,
   "id": "8926628a",
   "metadata": {},
   "outputs": [],
   "source": [
    "with open(output_poll, 'w') as poll_file:\n",
    "\n",
    "    # Initialize csv.writer\n",
    "    poll_writer = csv.writer(poll_file)\n",
    "\n",
    "    # Write \n",
    "    poll_writer.writerow(['Election Results: '])\n",
    "    poll_writer.writerow(['------------------------------------'])\n",
    "    poll_writer.writerow([f'Total Votes: {t_votes}'])\n",
    "    poll_writer.writerow(['------------------------------------'])\n",
    "    #poll_writer.writerow('[stats]')\n",
    "\n",
    "    poll_writer.writerow([f'-----------------------------------'])\n",
    "    poll_writer.writerow([f'WINNER: '])\n",
    "    poll_writer.writerow([f'-----------------------------------'])"
   ]
  },
  {
   "cell_type": "code",
   "execution_count": null,
   "id": "ab384b6d",
   "metadata": {},
   "outputs": [],
   "source": []
  }
 ],
 "metadata": {
  "kernelspec": {
   "display_name": "Python 3 (ipykernel)",
   "language": "python",
   "name": "python3"
  },
  "language_info": {
   "codemirror_mode": {
    "name": "ipython",
    "version": 3
   },
   "file_extension": ".py",
   "mimetype": "text/x-python",
   "name": "python",
   "nbconvert_exporter": "python",
   "pygments_lexer": "ipython3",
   "version": "3.9.13"
  }
 },
 "nbformat": 4,
 "nbformat_minor": 5
}
