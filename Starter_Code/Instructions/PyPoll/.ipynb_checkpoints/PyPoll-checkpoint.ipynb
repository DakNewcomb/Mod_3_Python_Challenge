{
 "cells": [
  {
   "cell_type": "markdown",
   "id": "113993f9",
   "metadata": {},
   "source": [
    "# PyPoll READ.Me\n",
    "\n",
    "PyPoll Instructions\n",
    "In this challenge, you are tasked with helping a small, rural town modernize its vote counting process.\n",
    "\n",
    "You will be given a set of poll data called election_data.csv. The dataset is composed of three columns: \"Voter ID\", \"County\", and \"Candidate\". Your task is to create a Python script that analyzes the votes and calculates each of the following:\n",
    "\n",
    "*The total number of votes cast\n",
    "\n",
    "A complete list of candidates who received votes\n",
    "\n",
    "The percentage of votes each candidate won\n",
    "\n",
    "The total number of votes each candidate won\n",
    "\n",
    "The winner of the election based on popular vote.\n",
    "\n",
    "Your analysis should look similar to the following:\n",
    "\n",
    "Election Results\n",
    "-------------------------\n",
    "Total Votes: 369711\n",
    "-------------------------\n",
    "Charles Casper Stockham: 23.049% (85213)\n",
    "Diana DeGette: 73.812% (272892)\n",
    "Raymon Anthony Doane: 3.139% (11606)\n",
    "-------------------------\n",
    "Winner: Diana DeGette\n",
    "-------------------------\n",
    "In addition, your final script should both print the analysis to the terminal and export a text file with the results."
   ]
  },
  {
   "cell_type": "code",
   "execution_count": 1,
   "id": "56510a60",
   "metadata": {},
   "outputs": [],
   "source": [
    "import os\n",
    "import csv"
   ]
  },
  {
   "cell_type": "code",
   "execution_count": 2,
   "id": "4cf2b429",
   "metadata": {},
   "outputs": [
    {
     "name": "stdout",
     "output_type": "stream",
     "text": [
      "..\\PyPoll\\Resources\\election_data.csv\n"
     ]
    }
   ],
   "source": [
    "csvpath = os.path.join('..','PyPoll','Resources','election_data.csv')\n",
    "print(csvpath)"
   ]
  },
  {
   "cell_type": "code",
   "execution_count": 11,
   "id": "c68c45d4",
   "metadata": {},
   "outputs": [],
   "source": []
  },
  {
   "cell_type": "code",
   "execution_count": 14,
   "id": "4db573c1",
   "metadata": {},
   "outputs": [
    {
     "name": "stdout",
     "output_type": "stream",
     "text": [
      "<_csv.reader object at 0x00000143622E3BE0>\n",
      "Election Header: ['Ballot ID', 'County', 'Candidate']\n",
      "Total Votes: 369711\n"
     ]
    }
   ],
   "source": [
    "election=[0]\n",
    "with open(csvpath) as csvfile:\n",
    "    csvreader = csv.reader(csvfile, delimiter =',')\n",
    "    print(csvreader)\n",
    "    \n",
    "    header = next(csvreader)\n",
    "    print(f'Election Header: {header}')\n",
    "\n",
    "    for rows in csvreader:\n",
    "        total_votes = (sum(1 for rows in csvreader) + 1)\n",
    "        print(f'Total Votes: {total_votes}')"
   ]
  },
  {
   "cell_type": "code",
   "execution_count": null,
   "id": "3bfe732c",
   "metadata": {},
   "outputs": [],
   "source": []
  },
  {
   "cell_type": "code",
   "execution_count": null,
   "id": "8926628a",
   "metadata": {},
   "outputs": [],
   "source": []
  }
 ],
 "metadata": {
  "kernelspec": {
   "display_name": "Python 3 (ipykernel)",
   "language": "python",
   "name": "python3"
  },
  "language_info": {
   "codemirror_mode": {
    "name": "ipython",
    "version": 3
   },
   "file_extension": ".py",
   "mimetype": "text/x-python",
   "name": "python",
   "nbconvert_exporter": "python",
   "pygments_lexer": "ipython3",
   "version": "3.9.13"
  }
 },
 "nbformat": 4,
 "nbformat_minor": 5
}
