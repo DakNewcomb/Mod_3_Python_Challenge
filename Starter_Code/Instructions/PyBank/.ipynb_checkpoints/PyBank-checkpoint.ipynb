{
 "cells": [
  {
   "cell_type": "markdown",
   "id": "af7aa778",
   "metadata": {},
   "source": [
    "# PyBank READ.me\n",
    "\n",
    "PyBank Instructions\n",
    "In this challenge, you are tasked with creating a Python script to analyze the financial records of your company. You will give a set of financial data called budget_data.csv. The dataset is composed of two columns: \"Date\" and \"Profit/Losses\". (Thankfully, your company has rather lax standards for accounting, so the records are simple.)\n",
    "\n",
    "Your task is to create a Python script that analyzes the records to calculate each of the following:\n",
    "\n",
    "The total number of months included in the dataset\n",
    "\n",
    "The net total amount of \"Profit/Losses\" over the entire period\n",
    "\n",
    "The changes in \"Profit/Losses\" over the entire period, and then the average of those changes\n",
    "\n",
    "The greatest increase in profits (date and amount) over the entire period\n",
    "\n",
    "The greatest decrease in profits (date and amount) over the entire period\n",
    "\n",
    "Your analysis should look similar to the following:\n",
    "\n",
    "Financial Analysis\n",
    "----------------------------\n",
    "Total Months: 86\n",
    "Total: $22564198\n",
    "Average Change: $-8311.11\n",
    "Greatest Increase in Profits: Aug-16 ($1862002)\n",
    "Greatest Decrease in Profits: Feb-14 ($-1825558)\n",
    "In addition, your final script should both print the analysis to the terminal and export a text file with the results."
   ]
  },
  {
   "cell_type": "code",
   "execution_count": 9,
   "id": "27ec2de3",
   "metadata": {},
   "outputs": [],
   "source": [
    "#imports\n",
    "import os\n",
    "import csv"
   ]
  },
  {
   "cell_type": "code",
   "execution_count": 10,
   "id": "cdd99aab",
   "metadata": {},
   "outputs": [],
   "source": [
    "#create path to file\n",
    "csvpath = os.path.join('..','PyBank','Resources','budget_data.csv')"
   ]
  },
  {
   "cell_type": "code",
   "execution_count": null,
   "id": "d69f3169",
   "metadata": {},
   "outputs": [],
   "source": []
  },
  {
   "cell_type": "code",
   "execution_count": 13,
   "id": "24871018",
   "metadata": {},
   "outputs": [
    {
     "name": "stdout",
     "output_type": "stream",
     "text": [
      "<_csv.reader object at 0x0000013E219F3100>\n",
      "Budget Data: ['Date', 'Profit/Losses']\n",
      "Total Months: 86\n"
     ]
    }
   ],
   "source": [
    "#create file reader and print data\n",
    "\n",
    "with open(csvpath) as csvfile:\n",
    "\n",
    "    # CSV reader specifies delimiter and variable that holds contents\n",
    "    csvreader = csv.reader(csvfile, delimiter=',')\n",
    "\n",
    "    print(csvreader)\n",
    "\n",
    "    # Read the header row first (skip this step if there is now header)\n",
    "    csv_header = next(csvreader)\n",
    "    print(f\"Budget Data: {csv_header}\")\n",
    "    \n",
    "\n",
    "    #Find total months\n",
    "    for rows in csvreader:\n",
    "        total_months = (sum(1 for rows in csvreader) + 1)\n",
    "        print(f'Total Months: {total_months}')   \n",
    "    #calculate net total\n",
    "        "
   ]
  },
  {
   "cell_type": "code",
   "execution_count": null,
   "id": "e05c44d0",
   "metadata": {},
   "outputs": [],
   "source": []
  },
  {
   "cell_type": "code",
   "execution_count": null,
   "id": "6383d8d3",
   "metadata": {},
   "outputs": [],
   "source": []
  }
 ],
 "metadata": {
  "kernelspec": {
   "display_name": "Python 3 (ipykernel)",
   "language": "python",
   "name": "python3"
  },
  "language_info": {
   "codemirror_mode": {
    "name": "ipython",
    "version": 3
   },
   "file_extension": ".py",
   "mimetype": "text/x-python",
   "name": "python",
   "nbconvert_exporter": "python",
   "pygments_lexer": "ipython3",
   "version": "3.9.13"
  }
 },
 "nbformat": 4,
 "nbformat_minor": 5
}
