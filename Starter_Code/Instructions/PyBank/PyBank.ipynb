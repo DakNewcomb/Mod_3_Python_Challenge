{
 "cells": [
  {
   "cell_type": "code",
   "execution_count": 1,
   "id": "27ec2de3",
   "metadata": {},
   "outputs": [],
   "source": [
    "#imports\n",
    "import os\n",
    "import csv"
   ]
  },
  {
   "cell_type": "code",
   "execution_count": 2,
   "id": "cdd99aab",
   "metadata": {},
   "outputs": [],
   "source": [
    "#create path to file\n",
    "source_b_path = os.path.join('..','PyBank','Resources','budget_data.csv')"
   ]
  },
  {
   "cell_type": "code",
   "execution_count": 8,
   "id": "24871018",
   "metadata": {},
   "outputs": [
    {
     "name": "stdout",
     "output_type": "stream",
     "text": [
      "<_csv.reader object at 0x00000225E5251F40>\n",
      "Budget Data: ['Date', 'Profit/Losses']\n",
      "------------------------------------\n",
      "Financial Analysis\n",
      "Total month: 86\n",
      "Profit/Loss Total: 22564198\n",
      "Average Change: -8311.11\n",
      "Greatest Increase in Profits: Aug-16 1862002\n",
      "Greatest Decrease in Profits: Feb-14 -1825558\n"
     ]
    }
   ],
   "source": [
    "#variables\n",
    "month = 0\n",
    "prof_loss_t = 0\n",
    "t_change = 0\n",
    "max_change = 0\n",
    "min_change = 0\n",
    "\n",
    "#open reader\n",
    "with open(source_b_path) as source_b_file:\n",
    "\n",
    "    # CSV reader specifies delimiter and variable that holds contents\n",
    "    bank_reader = csv.reader(source_b_file, delimiter=',')\n",
    "\n",
    "    print(bank_reader)\n",
    "\n",
    "    # Read the header row first (skip this step if there is now header)\n",
    "    csv_header = next(bank_reader)\n",
    "    print(f\"Budget Data: {csv_header}\")\n",
    "    \n",
    "    \n",
    "    #locate and save first rows data\n",
    "    month = month + 1\n",
    "    first_month = next(bank_reader)\n",
    "    prev_pl = int(first_month[1])\n",
    "    prof_loss_t = prof_loss_t + prev_pl\n",
    "    \n",
    "    \n",
    "    for rows in bank_reader:\n",
    "        \n",
    "        #count total months\n",
    "        month = month + 1\n",
    "        \n",
    "        #calculate net profit/loss total\n",
    "        prof_loss = int(rows[1])\n",
    "        prof_loss_t = prof_loss_t + prof_loss\n",
    "        \n",
    "        #calculate changes in profit/loss between each month\n",
    "        change = prof_loss - prev_pl\n",
    "        prev_pl = prof_loss\n",
    "        \n",
    "        #calculate total change\n",
    "        t_change = t_change + change\n",
    "        \n",
    "        #calculate greatest increase\n",
    "        if change > max_change:\n",
    "            max_change = change\n",
    "            i_month = rows[0]\n",
    "        #calculate greatest decrease\n",
    "        if change < min_change:\n",
    "            min_change = change\n",
    "            d_month = rows[0]\n",
    "    \n",
    "    #calculate average change in profit/loss\n",
    "    avg_change = round((t_change/(month - 1)),2)\n",
    "    \n",
    "        \n",
    "    print('------------------------------------')\n",
    "    print('Financial Analysis')\n",
    "    print(f'Total month: {month}')\n",
    "    print(f'Profit/Loss Total: {prof_loss_t}')\n",
    "    print(f'Average Change: {avg_change}')\n",
    "    print(f'Greatest Increase in Profits: {i_month} {max_change}') \n",
    "    print(f'Greatest Decrease in Profits: {d_month} {min_change}') \n",
    "    \n",
    "\n",
    "        "
   ]
  },
  {
   "cell_type": "code",
   "execution_count": 4,
   "id": "e05c44d0",
   "metadata": {},
   "outputs": [],
   "source": [
    "output_bank = os.path.join(\"..\",\"Analysis\",\"Bank_Analysis\")"
   ]
  },
  {
   "cell_type": "code",
   "execution_count": 5,
   "id": "a02adbb5",
   "metadata": {},
   "outputs": [
    {
     "name": "stdout",
     "output_type": "stream",
     "text": [
      "Financial Analysis\n",
      "--------------------------------------------------------------\n",
      "Total month: 86\n",
      "--------------------------------------------------------------\n",
      "Profit/Loss Total: $22564198\n",
      "--------------------------------------------------------------\n",
      "Average Change: $-8311.11\n",
      "--------------------------------------------------------------\n",
      "Greatest Increase in Profits: Aug-16 $1862002\n",
      "--------------------------------------------------------------\n",
      "Greatest Decrease in Profits: Feb-14 $-1825558\n"
     ]
    }
   ],
   "source": [
    "with open(output_bank, 'w') as txt_file:\n",
    "\n",
    "    # write text file\n",
    "    Bank_Analysis=(\n",
    "        f'Financial Analysis\\n'\n",
    "        f\"--------------------------------------------------------------\\n\"\n",
    "        f'Total month: {month}\\n'\n",
    "        f\"--------------------------------------------------------------\\n\"\n",
    "        f'Profit/Loss Total: ${prof_loss_t}\\n'\n",
    "        f\"--------------------------------------------------------------\\n\"\n",
    "        f'Average Change: ${avg_change}\\n'\n",
    "        f\"--------------------------------------------------------------\\n\"\n",
    "        f'Greatest Increase in Profits: {i_month} ${max_change}\\n'\n",
    "        f\"--------------------------------------------------------------\\n\" \n",
    "        f'Greatest Decrease in Profits: {d_month} ${min_change}\\n'\n",
    "    )\n",
    "    print(Bank_Analysis, end=\"\")\n",
    "    \n",
    "    txt_file.write(Bank_Analysis)"
   ]
  },
  {
   "cell_type": "code",
   "execution_count": null,
   "id": "0988aec4",
   "metadata": {},
   "outputs": [],
   "source": []
  },
  {
   "cell_type": "code",
   "execution_count": null,
   "id": "500ac098",
   "metadata": {},
   "outputs": [],
   "source": []
  }
 ],
 "metadata": {
  "kernelspec": {
   "display_name": "Python 3 (ipykernel)",
   "language": "python",
   "name": "python3"
  },
  "language_info": {
   "codemirror_mode": {
    "name": "ipython",
    "version": 3
   },
   "file_extension": ".py",
   "mimetype": "text/x-python",
   "name": "python",
   "nbconvert_exporter": "python",
   "pygments_lexer": "ipython3",
   "version": "3.9.13"
  }
 },
 "nbformat": 4,
 "nbformat_minor": 5
}
